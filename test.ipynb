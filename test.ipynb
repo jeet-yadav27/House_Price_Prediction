{
 "cells": [
  {
   "cell_type": "code",
   "execution_count": 1,
   "id": "9a6e3729",
   "metadata": {},
   "outputs": [],
   "source": [
    "import pickle"
   ]
  },
  {
   "cell_type": "code",
   "execution_count": 2,
   "id": "ce8fd129",
   "metadata": {},
   "outputs": [
    {
     "name": "stderr",
     "output_type": "stream",
     "text": [
      "c:\\Users\\jeety\\Desktop\\1. Masters Deakin\\1. Unit 1\\3. week 3\\venv\\lib\\site-packages\\sklearn\\base.py:442: InconsistentVersionWarning: Trying to unpickle estimator LinearRegression from version 1.6.1 when using version 1.7.1. This might lead to breaking code or invalid results. Use at your own risk. For more info please refer to:\n",
      "https://scikit-learn.org/stable/model_persistence.html#security-maintainability-limitations\n",
      "  warnings.warn(\n"
     ]
    }
   ],
   "source": [
    "from joblib import load\n",
    "model = load(\"linear_regression_model.pkl\")"
   ]
  },
  {
   "cell_type": "code",
   "execution_count": 3,
   "id": "a154d900",
   "metadata": {},
   "outputs": [
    {
     "name": "stdout",
     "output_type": "stream",
     "text": [
      "[ 5.85660690e+06  5.67724129e-01  3.00639668e+03  3.00046503e+03\n",
      "  5.39108517e+03 -7.66863999e-04  4.75808762e+02  1.38599773e+01\n",
      "  1.17280457e+02  1.05928525e+02 -4.13849941e+05 -4.13837498e+05\n",
      " -3.71690453e+04  4.43056144e+01 -6.55558975e+00  1.08862481e+02\n",
      " -5.49345474e-02  4.88564505e+06]\n",
      "48768.358706904575\n"
     ]
    }
   ],
   "source": [
    "print(model.coef_)      # Array of coefficients\n",
    "print(model.intercept_) # Intercept value\n"
   ]
  },
  {
   "cell_type": "code",
   "execution_count": null,
   "id": "558bdd32",
   "metadata": {},
   "outputs": [],
   "source": []
  }
 ],
 "metadata": {
  "kernelspec": {
   "display_name": "Python 3",
   "language": "python",
   "name": "python3"
  },
  "language_info": {
   "codemirror_mode": {
    "name": "ipython",
    "version": 3
   },
   "file_extension": ".py",
   "mimetype": "text/x-python",
   "name": "python",
   "nbconvert_exporter": "python",
   "pygments_lexer": "ipython3",
   "version": "3.10.0"
  }
 },
 "nbformat": 4,
 "nbformat_minor": 5
}
